{
 "cells": [
  {
   "cell_type": "code",
   "execution_count": 1,
   "id": "6d07d32c",
   "metadata": {},
   "outputs": [],
   "source": [
    "%matplotlib inline\n",
    "import os\n",
    "import mne\n",
    "import pandas as pd\n",
    "from mne.externals.pymatreader import read_mat\n",
    "import numpy as np\n",
    "import matplotlib.pyplot as plt\n",
    "import itertools\n",
    "from glob import glob\n",
    "import pyriemann\n",
    "from sklearn.linear_model import LogisticRegression\n",
    "from sklearn.model_selection import cross_val_score\n",
    "from sklearn.pipeline import make_pipeline\n",
    "from sklearn.metrics import accuracy_score\n",
    "\n"
   ]
  },
  {
   "cell_type": "code",
   "execution_count": 8,
   "id": "5e2b54a2",
   "metadata": {},
   "outputs": [],
   "source": [
    "from sklearn.preprocessing import StandardScaler\n",
    "from sklearn.model_selection import train_test_split\n",
    "from sklearn.model_selection import KFold\n",
    "from tensorflow.keras.models import Sequential\n",
    "from tensorflow.keras.layers import Dense\n",
    "# from tensorflow.keras.layers import Flatten\n",
    "# from tensorflow.keras.layers import Dropout\n",
    "from tensorflow.keras.layers import LSTM\n",
    "from tensorflow.keras.utils import to_categorical\n",
    "from tensorflow.python.keras.layers.core import Dropout\n",
    "from tensorflow.keras.layers import Conv1D\n"
   ]
  },
  {
   "cell_type": "code",
   "execution_count": 3,
   "id": "c00428ab",
   "metadata": {},
   "outputs": [],
   "source": [
    "data_path = 'C:\\\\Users\\\\frank\\\\code\\\\NeuroErgonomics_Hackathon_2021'\n",
    "#'/home/dcas/l.darmet/data/contest/comeptition_done'\n",
    "n_subs = 1\n",
    "n_sessions = 2\n",
    "diff = ['MATBeasy', 'MATBmed', 'MATBdiff']\n",
    "\n",
    "ch_slice = ['F7', 'F5', 'F3', 'F1', 'F2', 'F4', 'F6', 'AF3', 'AFz', 'AF4','FP1', 'FP2', 'FPz']"
   ]
  },
  {
   "cell_type": "code",
   "execution_count": 4,
   "id": "0c70f523",
   "metadata": {},
   "outputs": [],
   "source": [
    "params =        {'verbose':1,\n",
    "                'epochs': 5, \n",
    "                'batch_size' :200,\n",
    "                'loss' : 'categorical_crossentropy', \n",
    "                }    "
   ]
  },
  {
   "cell_type": "code",
   "execution_count": 21,
   "id": "477ecfd4",
   "metadata": {},
   "outputs": [
    {
     "name": "stdout",
     "output_type": "stream",
     "text": [
      "Epoch 1/5\n",
      "3/3 [==============================] - 4s 1s/step - loss: 1.0989 - accuracy: 0.3244 - val_loss: 1.0983 - val_accuracy: 0.3889\n",
      "Epoch 2/5\n",
      "3/3 [==============================] - 4s 1s/step - loss: 1.0985 - accuracy: 0.3333 - val_loss: 1.0982 - val_accuracy: 0.3889\n",
      "Epoch 3/5\n",
      "3/3 [==============================] - 4s 1s/step - loss: 1.0988 - accuracy: 0.3289 - val_loss: 1.0987 - val_accuracy: 0.3889\n",
      "Epoch 4/5\n",
      "3/3 [==============================] - 4s 1s/step - loss: 1.0988 - accuracy: 0.3221 - val_loss: 1.0991 - val_accuracy: 0.2667\n",
      "Epoch 5/5\n",
      "3/3 [==============================] - 4s 1s/step - loss: 1.0995 - accuracy: 0.2975 - val_loss: 1.1002 - val_accuracy: 0.2667\n",
      "Epoch 1/5\n",
      "3/3 [==============================] - 4s 1s/step - loss: 1.0989 - accuracy: 0.3177 - val_loss: 1.0984 - val_accuracy: 0.3444\n",
      "Epoch 2/5\n",
      "3/3 [==============================] - 4s 1s/step - loss: 1.0988 - accuracy: 0.3333 - val_loss: 1.0986 - val_accuracy: 0.3444\n",
      "Epoch 3/5\n",
      "3/3 [==============================] - 4s 1s/step - loss: 1.0986 - accuracy: 0.3333 - val_loss: 1.0984 - val_accuracy: 0.3444\n",
      "Epoch 4/5\n",
      "3/3 [==============================] - 4s 1s/step - loss: 1.0989 - accuracy: 0.3333 - val_loss: 1.0982 - val_accuracy: 0.3444\n",
      "Epoch 5/5\n",
      "3/3 [==============================] - 4s 1s/step - loss: 1.0993 - accuracy: 0.3333 - val_loss: 1.0986 - val_accuracy: 0.3444\n"
     ]
    },
    {
     "data": {
      "image/png": "[encoded data removed]",
      "text/plain": [
       "<Figure size 432x288 with 1 Axes>"
      ]
     },
     "metadata": {
      "needs_background": "light"
     },
     "output_type": "display_data"
    },
    {
     "data": {
      "image/png": "[encoded data removed]",
      "text/plain": [
       "<Figure size 432x288 with 1 Axes>"
      ]
     },
     "metadata": {
      "needs_background": "light"
     },
     "output_type": "display_data"
    }
   ],
   "source": [
    "for sub_n, session_n in itertools.product(range(n_subs), range(n_sessions)):\n",
    "    epochs_data = []\n",
    "    labels = []\n",
    "    for lab_idx, level in enumerate(diff):\n",
    "        sub = 'P{0:02d}'.format(sub_n+1)\n",
    "        sess = f'S{session_n+1}'\n",
    "        path = os.path.join(os.path.join(data_path, sub), sess) + f'/eeg/alldata_sbj{str(sub_n+1).zfill(2)}_sess{session_n+1}_{level}.set'\n",
    "        # Read the epoched data with MNE\n",
    "        epochs = mne.io.read_epochs_eeglab(path, verbose=False)\n",
    "        # You could add some pre-processing here with MNE\n",
    "        # We will just select some channels (mostly frontal ones)\n",
    "        epochs = epochs.drop_channels(list(set(epochs.ch_names) -set(ch_slice)))\n",
    "\n",
    "        # Get the data and concatenante with others MATB levels\n",
    "        tmp = epochs.get_data()\n",
    "        epochs_data.extend(tmp)\n",
    "        labels.extend([lab_idx]*len(tmp))\n",
    "    \n",
    "    \n",
    "    epochs_data = np.transpose(epochs_data, (0,2,1))\n",
    "    X = np.array(epochs_data)\n",
    "    \n",
    "#     scale = StandardScaler()\n",
    "#     scale.fit(epochs_data)\n",
    "#     epochs_data = scale.transform(epochs_data)\n",
    "    \n",
    "    labels = np.array(labels)\n",
    "    \n",
    "    labels_cat = to_categorical(labels)\n",
    "    y = labels_cat\n",
    "#     print(labels)\n",
    "#     print(y)\n",
    "#     print(X.shape)\n",
    "    \n",
    "    X_train, X_val, y_train, y_val = train_test_split(\n",
    "            X, y, test_size=0.2, random_state=42)\n",
    "    \n",
    "    n_timesteps, n_features, n_outputs = X_train.shape[1], X_train.shape[2], y_train.shape[1]\n",
    "    \n",
    "    model = Sequential()\n",
    "    model.add(LSTM(300, input_shape=(n_timesteps,n_features)))\n",
    "#     model.add(Conv1D(300, kernel_size=10, activation='relu', input_shape=(n_timesteps,n_features)))\n",
    "#     model.add(Conv1D(300, kernel_size=10, activation='relu', input_shape=(n_timesteps,n_features)))\n",
    "    model.add(Dropout(0.2))\n",
    "    model.add(Dense(100, activation='relu'))\n",
    "    model.add(Dropout(0.2))\n",
    "    model.add(Dense(20, activation='relu'))\n",
    "    \n",
    "    model.add(Dense(n_outputs, activation='softmax'))\n",
    "    model.compile(loss=params['loss'], optimizer='adam', metrics=['accuracy'])      \n",
    "\n",
    "    \n",
    "    history = model.fit(epochs_data, labels_cat, epochs=params['epochs'], batch_size=params['batch_size'], \\\n",
    "            verbose=params['verbose'], validation_data = (X_val, y_val))\n",
    "    plt.figure()\n",
    "    plt.plot(history.history['accuracy'])\n",
    "    plt.plot(history.history['loss'])\n"
   ]
  },
  {
   "cell_type": "code",
   "execution_count": 11,
   "id": "f11a3e33",
   "metadata": {},
   "outputs": [
    {
     "name": "stdout",
     "output_type": "stream",
     "text": [
      "(447, 500, 61)\n",
      "(357, 500, 61)\n",
      "(90, 500, 61)\n"
     ]
    }
   ],
   "source": [
    "print(X.shape)\n",
    "print(X_train.shape)\n",
    "print(X_val.shape)\n"
   ]
  },
  {
   "cell_type": "code",
   "execution_count": 19,
   "id": "77714730",
   "metadata": {},
   "outputs": [
    {
     "name": "stdout",
     "output_type": "stream",
     "text": [
      "(447, 3)\n",
      "(357, 3)\n",
      "(90, 3)\n"
     ]
    }
   ],
   "source": [
    "print(y.shape)\n",
    "print(y_train.shape)\n",
    "print(y_val.shape)"
   ]
  },
  {
   "cell_type": "code",
   "execution_count": 20,
   "id": "196394b0",
   "metadata": {},
   "outputs": [
    {
     "name": "stdout",
     "output_type": "stream",
     "text": [
      "[149. 149. 149.]\n",
      "[114. 125. 118.]\n",
      "[35. 24. 31.]\n"
     ]
    }
   ],
   "source": [
    "print(y.sum(axis=0))\n",
    "print(y_train.sum(axis=0))\n",
    "print(y_val.sum(axis=0))"
   ]
  },
  {
   "cell_type": "code",
   "execution_count": null,
   "id": "086a4331",
   "metadata": {},
   "outputs": [],
   "source": []
  }
 ],
 "metadata": {
  "kernelspec": {
   "display_name": "Python 3",
   "language": "python",
   "name": "python3"
  },
  "language_info": {
   "codemirror_mode": {
    "name": "ipython",
    "version": 3
   },
   "file_extension": ".py",
   "mimetype": "text/x-python",
   "name": "python",
   "nbconvert_exporter": "python",
   "pygments_lexer": "ipython3",
   "version": "3.8.10"
  }
 },
 "nbformat": 4,
 "nbformat_minor": 5
}
